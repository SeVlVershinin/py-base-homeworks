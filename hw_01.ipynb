{
 "cells": [
  {
   "cell_type": "markdown",
   "metadata": {},
   "source": [
    "## 1. Средний балл (списки)\n",
    "\n",
    "Дан список `student = ['Иван Питонов', 2001, [8, 7, 7, 9, 6], True]`. Выполните пункты ниже. Все выводы должны быть в формате \"Средний балл студента: {средний балл}\"\n",
    "\n",
    "1. Выведите фамилию и имя Ивана в формате \"Студент: {Фамилия}, {Имя}\"\n",
    "2. Выведите возраст Ивана, если сейчас 2020 год.\n",
    "3. Напечатайте оценки Ивана через запятую. \n",
    "1. Найдите средний балл Ивана, если оценки хранятся в списке внутри. Сумму элементов списка можно найти с помощью функции sum(). Выведите средний балл.\n",
    "3. Если средняя оценка Ивана больше или равна 8, то он получает повышенную стипендию. Выведите True или False."
   ]
  },
  {
   "cell_type": "code",
   "execution_count": 22,
   "metadata": {},
   "outputs": [
    {
     "name": "stdout",
     "output_type": "stream",
     "text": [
      "Студент: Питонов, Иван\n",
      "Возраст (лет): 19\n",
      "Оценки: 8, 7, 7, 9, 6\n",
      "Средний балл: 7.4\n",
      "Повышенная стипендия: False\n"
     ]
    }
   ],
   "source": [
    "student = ['Иван Питонов', 2001, [8, 7, 7, 9, 6], True]\n",
    "\n",
    "# 1 \n",
    "first_name, last_name = student[0].split()\n",
    "print('Студент: {}, {}'.format(last_name, first_name))\n",
    "\n",
    "# 2\n",
    "current_year = 2020\n",
    "year_of_birth = student[1]\n",
    "age = current_year - year_of_birth\n",
    "print ('Возраст (лет): {}'.format(age))\n",
    "\n",
    "#3\n",
    "scores = student[2]\n",
    "print ('Оценки: {}'.format(', '.join(map(str, scores))))\n",
    "\n",
    "#4\n",
    "scores_count = len(scores)\n",
    "# в случае, если оценок нет, то средний бал не определен, т.е. None\n",
    "average_score = None if scores_count == 0 else sum(scores)/scores_count \n",
    "print ('Средний балл: {}'.format(average_score))\n",
    "\n",
    "#5\n",
    "#аналогично, если средний балл не определен, то и наличие повышенной стипендии не определено, т.е. None\n",
    "increased_scholarship = None if average_score is None else (average_score >= 8)  \n",
    "print ('Повышенная стипендия: {}'.format(increased_scholarship)) \n"
   ]
  },
  {
   "cell_type": "markdown",
   "metadata": {},
   "source": [
    "## 2. Срезы списков\n",
    "\n",
    "Используя список `dwarves`, выведите на экран с помощью срезов следующие списки:\n",
    "\n",
    "    [\"Двалин\", \"Бифур\", \"Бофур\"]\n",
    "    [\"Балин\", \"Бифур\", \"Бомбур\", \"Глоин\", \"Нори\", \"Фили\", \"Торин\"]\n",
    "    [\"Оин\", \"Дори\", \"Ори\", \"Кили\"]\n",
    "    [\"Торин\", \"Фили\", \"Нори\", \"Глоин\"]"
   ]
  },
  {
   "cell_type": "code",
   "execution_count": 3,
   "metadata": {},
   "outputs": [
    {
     "name": "stdout",
     "output_type": "stream",
     "text": [
      "['Двалин', 'Бифур', 'Бофур']\n",
      "['Балин', 'Бифур', 'Бомбур', 'Глоин', 'Нори', 'Фили', 'Торин']\n",
      "['Оин', 'Дори', 'Ори', 'Кили']\n",
      "['Торин', 'Фили', 'Нори', 'Глоин']\n"
     ]
    }
   ],
   "source": [
    "dwarves = [\"Балин\", \"Двалин\", \"Бифур\", \"Бофур\", \n",
    "         \"Бомбур\", \"Оин\", \"Глоин\", \"Дори\", \"Нори\",\n",
    "         \"Ори\", \"Фили\", \"Кили\", \"Торин\"]\n",
    "\n",
    "list1 = dwarves[1:4]\n",
    "print(list1)\n",
    "\n",
    "list2 = dwarves[::2]\n",
    "print(list2)\n",
    "\n",
    "list3 = dwarves[5:12:2]\n",
    "# можно также: list3 = dwarves[5::2]\n",
    "print(list3)\n",
    "\n",
    "list4 = dwarves[-1:-8:-2]\n",
    "print(list4)\n"
   ]
  },
  {
   "cell_type": "markdown",
   "metadata": {},
   "source": [
    "## 3. Вложенные словари\n",
    "\n",
    "Вам дан словарь, содержащий в себе списки словарей. Напишите код, который выведет на экран 'разработчик' из списка ключа Windows в в первом словаре из списка 2."
   ]
  },
  {
   "cell_type": "code",
   "execution_count": 4,
   "metadata": {},
   "outputs": [
    {
     "name": "stdout",
     "output_type": "stream",
     "text": [
      "разработчик\n"
     ]
    }
   ],
   "source": [
    "dict_of_lists = {'Список1': [{'Python': 'язык программирования'}, {'R':'язык программирования', 'LaTEX' : 'язык верстки' }], \n",
    "                 'Список2' : [{'Windows' : ['операционная система', 'разработчик'], 'UNIX' : 'операционная система'},\n",
    "                              {'IBM': ['компания-производитель', 'разработчик'], 'IPv6' : 'интернет-протокол' }]}\n",
    "\n",
    "# ваше решение здесь\n",
    "print(dict_of_lists['Список2'][0]['Windows'][1])"
   ]
  },
  {
   "cell_type": "markdown",
   "metadata": {},
   "source": [
    "## 3. Количество различных чисел (списки и множества)\n",
    "\n",
    "Дан список чисел, который может содержать до 100000 чисел. \n",
    "\n",
    "1. Определите, сколько в нем встречается различных чисел.\n",
    "2. Оцените, как зависит количество уникальных элементов в списке от длины списка (от length)\n",
    "\n",
    "Если есть вопрос \"как оценить\", приходите в чат, ответ обязательно найдется. Логика: много раз сгенерировать списки длины l, в каждом посчитать кол-во уникальных элементов, усреднить, повторить для нового l.\n",
    "\n",
    "Если у вас в кармане завалялось математическое вычисление этой зависимости, приносите :)"
   ]
  },
  {
   "cell_type": "code",
   "execution_count": 17,
   "metadata": {},
   "outputs": [
    {
     "name": "stdout",
     "output_type": "stream",
     "text": [
      "длина списка:  7421\n",
      "количество уникальных элементов:  270\n"
     ]
    }
   ],
   "source": [
    "#Первая часть задания\n",
    "import numpy as np\n",
    "\n",
    "# Генерирую случайную длину до 100000\n",
    "length = np.random.randint(1,100000)\n",
    "\n",
    "# Генерирую случайный список целых чисел из length элементов\n",
    "int_list = list(np.random.binomial(length, 0.5,size = length))\n",
    "\n",
    "a = set(int_list)\n",
    "\n",
    "print ('длина списка: ', length)\n",
    "print ('количество уникальных элементов: ', len(a))\n",
    "\n"
   ]
  },
  {
   "cell_type": "code",
   "execution_count": 21,
   "metadata": {},
   "outputs": [
    {
     "data": {
      "image/png": "[encoded data removed]",
      "text/plain": [
       "<Figure size 640x480 with 1 Axes>"
      ]
     },
     "metadata": {},
     "output_type": "display_data"
    }
   ],
   "source": [
    "#Вторая часть задания\n",
    "\"\"\"ВНИМАНИЕ! КОД ДАННОГО БЛОКА ВЫПОЛНЯЕТСЯ ДО НЕСКОЛЬКИХ МИНУТ\"\"\"\n",
    "import matplotlib.pyplot as plt\n",
    "import numpy as np\n",
    "\n",
    "\n",
    "def sample_unique_number_count_in_random_list(random_list_length, iteration_count=10):\n",
    "    \"\"\"\n",
    "    Генерирует список с количествами уникальных числе, генерируя случайный список заданной длинны заданное\n",
    "    количество раз\n",
    "    :param random_list_length: длина списка случайных чисел\n",
    "    :param iteration_count: количество итераций генерирования списка\n",
    "    :return: список, в котором i-й элемент - это количество уникальных чисел в списке, полученном на i-й итерации\n",
    "    \"\"\"\n",
    "    unique_number_amounts = list()\n",
    "    for _ in range(iteration_count):\n",
    "        int_list = list(np.random.binomial(random_list_length, 0.5, size=random_list_length))\n",
    "        unique_number_amounts.append(len(set(int_list)))\n",
    "    return unique_number_amounts\n",
    "\n",
    "\n",
    "\"\"\"\n",
    "Проходим по всему диапазону длин списка и на каждом шаге вычисляем среднее количество уникальных чисел в списке \n",
    "соответствующей длины. Максимальная длина списка установлена в 10000, т.к. при больших значениях код начинает \n",
    "выполняться слишком долго Как вариант, можно пройти по всему диапазону, но с некоторым шагом. В этом случае\n",
    "потребуется скорректировать код для отображения графика зависимости в части подписи точек на оси X\n",
    "\"\"\"\n",
    "average_unique_number_amounts = []\n",
    "for list_length in range(1, 10000):\n",
    "    unique_number_amounts = sample_unique_number_count_in_random_list(list_length)\n",
    "    average_unique_number_amount = np.mean(unique_number_amounts)\n",
    "    average_unique_number_amounts.append(average_unique_number_amount)\n",
    "\n",
    "\"\"\"рисуем график зависимости количества уникальных числел от длины списка\"\"\"\n",
    "x = np.array(average_unique_number_amounts)\n",
    "plt.plot(x)\n",
    "plt.show()"
   ]
  },
  {
   "cell_type": "markdown",
   "metadata": {},
   "source": [
    "## 4. Сортируем числа и строки (списки, сортировки, map())\n",
    "Дан список `numbers = [1, 1000, 1002124, 25, 10, 20, 351]`. Выполните следующие шаги. Для сортировок пользуйтесь функцией sorted().\n",
    "\n",
    "1. Отсортируйте этот список по возрастанию и сохраните результат в переменную numbers_int_sorted\n",
    "2. На основе оригинального списка numbers с помощью функции map создайте новый список, где вместо каждого числа будет строка ('1', '1000' и т.д.) и сохраните его в переменную numbers_str\n",
    "3. Отсортируйте список numbers_str по возрастанию и сохраните результат в переменную numbers_str_sorted\n",
    "4. Отсортийте список numbers_str по возрастанию с помощью ключа, который перед сортировкой представляет строки в виде целых чисел, и сохраните результат в переменную numbers_str_key_sorted\n",
    "5. Выведите три отсортированных списка. Есть ли среди них одинаковые? Почему?\n",
    "\n"
   ]
  },
  {
   "cell_type": "code",
   "execution_count": 18,
   "metadata": {},
   "outputs": [
    {
     "name": "stdout",
     "output_type": "stream",
     "text": [
      "Отсортированный список исходных целых чисел:\n",
      " [1, 10, 20, 25, 351, 1000, 1002124]\n",
      "Отсортированный в лексикографическом порядке список строк, соответствующих исходным целым числам: \n",
      " ['1', '10', '1000', '1002124', '20', '25', '351']\n",
      "Отсортированный по возрастанию соответствующих чисел список строк, соответствующих исходным целым числам: \n",
      " ['1', '10', '20', '25', '351', '1000', '1002124']\n"
     ]
    }
   ],
   "source": [
    "numbers = [1, 1000, 1002124, 25, 10, 20, 351]\n",
    "\n",
    "#1\n",
    "numbers_int_sorted = sorted(numbers)\n",
    "\n",
    "#2\n",
    "numbers_str = list(map(str, numbers))\n",
    "\n",
    "#3\n",
    "numbers_str_sorted = sorted(numbers_str)\n",
    "\n",
    "#4\n",
    "numbers_str_key_sorted = sorted(numbers_str, key = int)\n",
    "\n",
    "#5\n",
    "print('Отсортированный список исходных целых чисел:\\n', numbers_int_sorted)\n",
    "print('Отсортированный в лексикографическом порядке список строк, соответствующих исходным целым числам: \\n', numbers_str_sorted)\n",
    "print('Отсортированный по возрастанию соответствующих чисел список строк, соответствующих исходным целым числам: \\n', numbers_str_key_sorted)\n",
    "\n",
    "# Одинаковых списков нет, т.к. в первом случае мы имеем список целых чисел, отсортированных по возрастаний, \n",
    "# во втором случае - список строк, соответствующих исходным числам, упорядоченные по возрастанию в лексикографическом порядке, \n",
    "# а в третьем случае - списк строк, соответствующих исходным числам, но упорядоченный по возрастанию соответствующих целых чисел\n"
   ]
  },
  {
   "cell_type": "markdown",
   "metadata": {},
   "source": [
    "## 5. Факультативы (множества)\n",
    "Группа из 3 студентов пишет заявки на желаемые факультативы из списка: английский, немецкий, право, математика, сольфеджио. Факультатив откроют, если на него запишутся все студенты. Каждый студент может выбрать минимум один и максимум три факультатива. Нужно посчитать количество факультативов, которые откроются.\n",
    "\n",
    "*Пример*\n",
    "\n",
    "**Ввод:**\n",
    "\n",
    "английский сольфеджио право  \n",
    "математика сольфеджио  \n",
    "немецкий право\n",
    "\n",
    "**Вывод:**\n",
    "\n",
    "0\n",
    "\n",
    "**Ввод:**\n",
    "\n",
    "математика немецкий право  \n",
    "математика немецкий  \n",
    "немецкий право математика \n",
    "\n",
    "**Вывод:**  \n",
    "2\n",
    "\n",
    "(нужна будет функция input())"
   ]
  },
  {
   "cell_type": "code",
   "execution_count": 19,
   "metadata": {},
   "outputs": [
    {
     "name": "stdin",
     "output_type": "stream",
     "text": [
      "Выбор первого студента:  математика немецкий право\n",
      "Выбор второго студента:  математика немецкий\n",
      "Выбор третьего студента:  немецкий право математика\n"
     ]
    },
    {
     "name": "stdout",
     "output_type": "stream",
     "text": [
      "Откроется факультативов: 2\n"
     ]
    }
   ],
   "source": [
    "first_student_choice = input('Выбор первого студента: ').split()\n",
    "second_student_choice = input('Выбор второго студента: ').split()\n",
    "third_student_choice = input('Выбор третьего студента: ').split()\n",
    "common_choice = set(first_student_choice) & set(second_student_choice) & set(third_student_choice)\n",
    "\n",
    "print(f'Откроется факультативов: {len(common_choice)}')"
   ]
  },
  {
   "cell_type": "markdown",
   "metadata": {},
   "source": [
    "## 6. Даны два отсортированных списка, соедините их в один отсортированный список\n",
    "\n",
    "Нужно сделать за минимальное возможное кол-во операций\n",
    "\n",
    "    Входные данные: [1,2,3], [3,4,5]\n",
    "    Выходные данные: [1,2,3,3,4,5]\n",
    "\n",
    "    Входные данные: [1,1,1], [1,40,50]\n",
    "    Выходные данные: [1,1,1,1,40,50]"
   ]
  },
  {
   "cell_type": "code",
   "execution_count": 13,
   "metadata": {},
   "outputs": [
    {
     "name": "stdout",
     "output_type": "stream",
     "text": [
      "[1, 1, 1, 1, 40, 50]\n"
     ]
    }
   ],
   "source": [
    "left_list = [1,1,1]\n",
    "right_list = [1,40,50]\n",
    "\n",
    "left_list_length = len(left_list)\n",
    "right_list_length = len(right_list)\n",
    "left_cur_index, right_cur_index = 0, 0\n",
    "resulting_list = []\n",
    "\n",
    "while (left_cur_index < left_list_length) and (right_cur_index < right_list_length):\n",
    "    left_item = left_list[left_cur_index]\n",
    "    right_item = right_list[right_cur_index]\n",
    "\n",
    "    if left_item < right_item:\n",
    "        resulting_list.append(left_item)\n",
    "        left_cur_index += 1\n",
    "    else:\n",
    "        resulting_list.append(right_item)\n",
    "        right_cur_index += 1\n",
    "\n",
    "if left_cur_index < left_list_length:\n",
    "    resulting_list += left_list[left_cur_index:]\n",
    "else:\n",
    "    resulting_list += right_list[right_cur_index:]\n",
    "\n",
    "print(resulting_list)\n"
   ]
  },
  {
   "cell_type": "markdown",
   "metadata": {},
   "source": [
    "## 7. Про Поросёнка Петра\n",
    "\n",
    "На плоскости в точке (0,0) стоит Поросёнок Пётр. Он умеет ходить налево, направо, вверх и вниз. Расстояние его прохода в какую-либо сторону измеряется в шагах. Когда он идет вправо, его первая координата увеличивается, когда влево - уменьшается. Когда он идет вверх, его вторая координата увеличивается, а когда вниз - уменьшается. \n",
    "\n",
    "С клавиатуры считывается число N - число ходов, которые сделает Пётр. После чего на каждом шаге спрашивается, сколько шагов и в какую сторону за этот ход Пётр сделает. Так происходит, пока Пётр не осуществит все N ходов.\n",
    "\n",
    "Программа должна вывести, сколько шагов Пётр должен был бы сделать, чтобы кратчайшим путем прибыть из свое начальной точки (0,0) в свою конечную точку. Напоминание: Пётр умеет ходить только вверх-вниз, и влево-вправо, но не по диагонали.\n",
    "\n",
    "Пример ввода: \n",
    "\n",
    "    Введите N: 3\n",
    "    Ход 1: Вверх 1\n",
    "    Ход 2: Вниз 1\n",
    "    Ход 3: Вверх 1\n",
    "    \n",
    "Пример вывода:\n",
    "\n",
    "    Пётр находится на расстоянии 1 от (0,0)"
   ]
  },
  {
   "cell_type": "code",
   "execution_count": 23,
   "metadata": {},
   "outputs": [
    {
     "name": "stdin",
     "output_type": "stream",
     "text": [
      "Введите N: 3\n",
      "Ход 1:  Вверх 1\n",
      "Ход 2:  Вниз 1\n",
      "Ход 3:  Вверх 1\n"
     ]
    },
    {
     "name": "stdout",
     "output_type": "stream",
     "text": [
      "Петр находится на расстоянии 1 от (0,0)\n"
     ]
    }
   ],
   "source": [
    "x, y = 0, 0\n",
    "\n",
    "N = int(input('Введите N:'))\n",
    "for i in range(1, N + 1):\n",
    "    move_direction, steps_count = input('Ход {}: '.format(i)).split()\n",
    "    steps_count = int(steps_count)\n",
    "\n",
    "    if move_direction == 'Вверх':\n",
    "        y += steps_count\n",
    "    elif move_direction == 'Вниз':\n",
    "        y -= steps_count\n",
    "    elif move_direction == 'Вправо':\n",
    "        x += steps_count\n",
    "    elif move_direction == 'Влево':\n",
    "        x -= steps_count\n",
    "    else:\n",
    "        print(f'\"{move_direction}\" не является допустимым направлением. Ход будет пропущен')\n",
    "\n",
    "    # print('Теперь Петр размещается в точке ({},{})'.format(x,y))\n",
    "\n",
    "print('Петр находится на расстоянии {} от (0,0)'.format(abs(x) + abs(y)))"
   ]
  },
  {
   "cell_type": "markdown",
   "metadata": {},
   "source": [
    "## 8. Развернуть число\n",
    "\n",
    "Вам на вход подается произвольное целое число. \"Разверните\" его, не используя преобразование к строке.\n",
    "\n",
    "Пример:\n",
    "    \n",
    "    Вход: 12345890\n",
    "    Выход: 9854321"
   ]
  },
  {
   "cell_type": "code",
   "execution_count": 63,
   "metadata": {},
   "outputs": [
    {
     "name": "stdout",
     "output_type": "stream",
     "text": [
      "9854321\n"
     ]
    }
   ],
   "source": [
    "initial_number = 12345890\n",
    "reversed_number = 0\n",
    "\n",
    "while initial_number > 0:\n",
    "    last_digit = initial_number % 10\n",
    "    initial_number = initial_number // 10\n",
    "    reversed_number = reversed_number * 10 + last_digit\n",
    "\n",
    "print(reversed_number)"
   ]
  },
  {
   "cell_type": "markdown",
   "metadata": {},
   "source": [
    "## 9. Дано целое число, что может означать зашифрованное им сообщение\n",
    "\n",
    "Дано целое число которое означает последовательность цифр, набранных на кнопочном телефоне (печатали короткую СМСку на русском/английском языке, как вам удобнее). Вывести все варианты того, что может введенная последовательность означать.\n",
    "\n",
    "    Входные данные: digits = \"23\"\n",
    "    Выходные данные: [\"ad\",\"ae\",\"af\",\"bd\",\"be\",\"bf\",\"cd\",\"ce\",\"cf\"]\n",
    "\n",
    "+ усложнение. Попробуйте расшифровать наиболее вероятные введенные слова (вопросы можно задавать)"
   ]
  },
  {
   "cell_type": "code",
   "execution_count": 14,
   "metadata": {},
   "outputs": [
    {
     "name": "stdin",
     "output_type": "stream",
     "text": [
      "Введите последовательность цифр от 2 до 9, кодирующую соответствующее слово:  23\n"
     ]
    },
    {
     "name": "stdout",
     "output_type": "stream",
     "text": [
      "Возможные слова:  ['ad', 'ae', 'af', 'bd', 'be', 'bf', 'cd', 'ce', 'cf']\n",
      "\n",
      "Наиболее вероятное слово: 'be'. Встречается в тексте 6155 раз\n"
     ]
    }
   ],
   "source": [
    "import itertools\n",
    "import re\n",
    "from collections import Counter\n",
    "import requests\n",
    "\n",
    "letter_groups_for_digits = {'2': 'abc', '3': 'def', '4': 'ghi', '5': 'jkl', '6': 'mno', '7': 'pqrs', '8': 'tuv',\n",
    "                            '9': 'wxyz'}\n",
    "\n",
    "digits = input('Введите последовательность цифр от 2 до 9, кодирующую соответствующее слово: ')\n",
    "\n",
    "# Определяем и выводим все возможные слова, соответствующие введенной последовательности цифр\n",
    "list_of_letter_groups = list()\n",
    "for digit in digits:\n",
    "    if digit in letter_groups_for_digits:\n",
    "        list_of_letter_groups.append(letter_groups_for_digits[digit])\n",
    "\n",
    "possible_letter_combinations = itertools.product(*list_of_letter_groups)\n",
    "possible_words = [''.join(letter_combination) for letter_combination in possible_letter_combinations]\n",
    "print('Возможные слова: ', possible_words)\n",
    "\n",
    "# загружаем текст, используемый для определения популярности слов, и с его помощью находим среди возможных слов\n",
    "# то, которое наибоее часто встречается в тексте\n",
    "text = requests.get('https://norvig.com/big.txt').text\n",
    "words = re.findall(r'[a-z]+', text.lower())\n",
    "words_counter = Counter(words)\n",
    "probable_word = max(possible_words, key=lambda w: words_counter[w])\n",
    "\n",
    "print(f'\\nНаиболее вероятное слово: \\'{probable_word}\\'. Встречается в тексте {words_counter[probable_word]} раз')"
   ]
  },
  {
   "cell_type": "markdown",
   "metadata": {},
   "source": [
    "## 10. Объединение словарей\n",
    "\n",
    "Напишите программу, которая подсчитывает значения из произвольного списка словарей следующего вида.\n",
    "\n",
    "Ввод:\n",
    "\n",
    "    shops = [{'товар': 'яблоки', 'количество': 400}, {'товар': 'конфеты', 'количество': 300}, {'товар': 'яблоки', 'количество': 750}]\n",
    "\n",
    "\n",
    "Вывод:\n",
    "\n",
    "    {'яблоки': 1150, 'конфеты': 300}"
   ]
  },
  {
   "cell_type": "code",
   "execution_count": 95,
   "metadata": {},
   "outputs": [
    {
     "name": "stdout",
     "output_type": "stream",
     "text": [
      "{'яблоки': 1150, 'конфеты': 300}\n"
     ]
    }
   ],
   "source": [
    "shops = [{'товар': 'яблоки', 'количество': 400},\n",
    "         {'товар': 'конфеты', 'количество': 300}, \n",
    "         {'товар': 'яблоки', 'количество': 750}]\n",
    "\n",
    "result_info = dict()\n",
    "\n",
    "for shop in shops:\n",
    "    product_name = shop['товар']\n",
    "    product_quantity = shop['количество']\n",
    "    result_info[product_name] = result_info.get(product_name, 0) + product_quantity\n",
    "\n",
    "print(result_info)"
   ]
  },
  {
   "cell_type": "markdown",
   "metadata": {},
   "source": [
    "## 11. Треугольник\n",
    "\n",
    "На вход принимается число N. \n",
    "\n",
    "Выведите на печать следующий паттерн:\n",
    "\n",
    "1\n",
    "\n",
    "1 2\n",
    "\n",
    "1 2 3\n",
    "\n",
    "1 2 3 4\n",
    "\n",
    "...\n",
    "\n",
    "1 ... N"
   ]
  },
  {
   "cell_type": "code",
   "execution_count": 100,
   "metadata": {},
   "outputs": [
    {
     "name": "stdin",
     "output_type": "stream",
     "text": [
      "Введите число строк треугольника: 10\n"
     ]
    },
    {
     "name": "stdout",
     "output_type": "stream",
     "text": [
      " 1\n",
      " 1 2\n",
      " 1 2 3\n",
      " 1 2 3 4\n",
      " 1 2 3 4 5\n",
      " 1 2 3 4 5 6\n",
      " 1 2 3 4 5 6 7\n",
      " 1 2 3 4 5 6 7 8\n",
      " 1 2 3 4 5 6 7 8 9\n",
      " 1 2 3 4 5 6 7 8 9 10\n"
     ]
    }
   ],
   "source": [
    "N = int(input('Введите число строк треугольника:'))\n",
    "\n",
    "current_line = ''\n",
    "for line_length in range(1, N+1):\n",
    "    current_line += ' ' + str(line_length)\n",
    "    print(current_line)\n"
   ]
  }
 ],
 "metadata": {
  "kernelspec": {
   "display_name": "Python 3 (ipykernel)",
   "language": "python",
   "name": "python3"
  },
  "language_info": {
   "codemirror_mode": {
    "name": "ipython",
    "version": 3
   },
   "file_extension": ".py",
   "mimetype": "text/x-python",
   "name": "python",
   "nbconvert_exporter": "python",
   "pygments_lexer": "ipython3",
   "version": "3.11.5"
  }
 },
 "nbformat": 4,
 "nbformat_minor": 4
}
